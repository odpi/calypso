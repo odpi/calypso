{
 "cells": [
  {
   "cell_type": "code",
   "execution_count": null,
   "metadata": {},
   "outputs": [],
   "source": []
  },
  {
   "cell_type": "markdown",
   "metadata": {},
   "source": [
    "![Egeria Logo](https://raw.githubusercontent.com/odpi/egeria/master/assets/img/ODPi_Egeria_Logo_color.png)\n",
    "\n",
    "### ODPi Egeria Hands-On Lab\n",
    "# Welcome to the Configuring and Starting the User Interface Server Lab"
   ]
  },
  {
   "cell_type": "code",
   "execution_count": 1,
   "metadata": {},
   "outputs": [],
   "source": [
    "import os\n",
    "\n",
    "uiPlatformURL       = os.environ.get('uiPlatformURL','https://localhost:8443') \n",
    "corePlatformURL     = os.environ.get('corePlatformURL','http://localhost:8080') \n",
    "dataLakePlatformURL = os.environ.get('dataLakePlatformURL','http://localhost:8081') \n",
    "devPlatformURL      = os.environ.get('devPlatformURL','http://localhost:8082')\n",
    "\n",
    "uiUser = \"UIServer\"\n",
    "uiServer = \"cocoui\"\n",
    "uiPassword = \"admin\"\n",
    "        "
   ]
  },
  {
   "cell_type": "markdown",
   "metadata": {},
   "source": [
    "# Here be dragons \n",
    "\n",
    "The User Interface has recently been restructured. This notebook is provided only to get you going with interacting \n",
    "with the UI. Proper tutorials will follow later once the User Interface enters Tech Preview"
   ]
  },
  {
   "cell_type": "code",
   "execution_count": 2,
   "metadata": {},
   "outputs": [],
   "source": [
    "uiConfigurationBody = {\n",
    "   \"class\":\"org.odpi.openmetadata.userinterface.adminservices.configuration.properties.UIServerConfig\",\n",
    "   \"localServerId\":\"90083805-8ecf-45a6-9d7e-e0895592c090\",\n",
    "   \"localServerName\":\"cocoui\",\n",
    "   \"localServerURL\":\"http://localhost:8443\",\n",
    "   \"localServerUserId\":\"UIServer\",\n",
    "   \"localServerPassword\":\"admin\",\n",
    "   \"localServerType\":\"User Interface for the Open Metadata and Governance Server\",\n",
    "   \"maxPageSize\":1000,\n",
    "   \"metadataServerName\":\"cocoMDS4\",\n",
    "   \"metadataServerURL\":\"http://localhost:8081\",\n",
    "   \"viewServicesConfig\":[\n",
    "      {\n",
    "         \"class\":\"org.odpi.openmetadata.userinterface.adminservices.configuration.properties.ViewServiceConfig\",\n",
    "         \"viewServiceId\":1030,\n",
    "         \"viewServiceName\":\"Subject Area OMVS\",\n",
    "          \"viewServiceAdminClass\":\"org.odpi.openmetadata.viewservices.subjectarea.admin.SubjectAreaViewAdmin\",\n",
    "         \"viewServiceURLMarker\":\"subject-area\",\n",
    "         \"viewServiceDescription\":\"Subject area authoring.\",\n",
    "         \"viewServiceWiki\":\"https://odpi.github.io/egeria/open-metadata-implementation/access-services/subject-area/\"\n",
    "      },\n",
    "      {\n",
    "         \"class\":\"org.odpi.openmetadata.userinterface.adminservices.configuration.properties.ViewServiceConfig\",\n",
    "         \"viewServiceId\":1010,\n",
    "         \"viewServiceName\":\"Asset Search OMVS\",\n",
    "         \"viewServiceAdminClass\":\"org.odpi.openmetadata.viewservices.assetsearch.admin.AssetSearchViewAdmin\",\n",
    "         \"viewServiceURLMarker\":\"asset-search\",\n",
    "         \"viewServiceDescription\":\"Search and understand your assets.\",\n",
    "         \"viewServiceWiki\":\"https://odpi.github.io/egeria/open-metadata-implementation/access-services/asset-catalog/\"\n",
    "      },\n",
    "      {\n",
    "         \"class\":\"org.odpi.openmetadata.userinterface.adminservices.configuration.properties.ViewServiceConfig\",\n",
    "         \"viewServiceId\":1040,\n",
    "         \"viewServiceName\":\"Type Explorer OMVS\",\n",
    "         \"viewServiceAdminClass\":\"org.odpi.openmetadata.viewservices.typeexplorer.admin.TypeExplorerViewAdmin\",\n",
    "         \"viewServiceURLMarker\":\"type-explorer\",\n",
    "         \"viewServiceDescription\":\"Explore the open metadata types.\",\n",
    "         \"viewServiceWiki\":\"https://odpi.github.io/egeria/open-metadata-implementation/access-services/subject-area/\"\n",
    "      },\n",
    "      {\n",
    "         \"class\":\"org.odpi.openmetadata.userinterface.adminservices.configuration.properties.ViewServiceConfig\",\n",
    "         \"viewServiceId\":1020,\n",
    "         \"viewServiceName\":\"Open Lineage OMVS\",\n",
    "         \"viewServiceAdminClass\":\"org.odpi.openmetadata.viewservices.openlineage.admin.OpenLineageViewAdmin\",\n",
    "         \"viewServiceOptions\":{\n",
    "            \"openLineageServerName\":\"lin1\",\n",
    "            \"openLineageServerURL\":\"http://localhost:8081\"\n",
    "         },\n",
    "         \"viewServiceURLMarker\":\"open-lineage\",\n",
    "         \"viewServiceDescription\":\"Explore open lineage.\",\n",
    "         \"viewServiceWiki\":\"https://odpi.github.io/egeria/open-metadata-implementation/access-services/asset-owner/\"\n",
    "      }\n",
    "   ],\n",
    "   \"auditLogConnections\":[\n",
    "         {\n",
    "            \"class\":\"Connection\",\n",
    "            \"type\":{\n",
    "               \"class\":\"ElementType\",\n",
    "               \"elementTypeId\":\"114e9f8f-5ff3-4c32-bd37-a7eb42712253\",\n",
    "               \"elementTypeName\":\"Connection\",\n",
    "               \"elementTypeVersion\":1,\n",
    "               \"elementTypeDescription\":\"A set of properties to identify and configure a connector instance.\",\n",
    "               \"elementOrigin\":\"CONFIGURATION\"\n",
    "            },\n",
    "            \"guid\":\"5390bf3e-6b38-4eda-b34a-de55ac4252a7\",\n",
    "            \"qualifiedName\":\"DefaultAuditLog.Connection.Server1\",\n",
    "            \"displayName\":\"DefaultAuditLog.Connection.Server1\",\n",
    "            \"description\":\"OMRS default audit log connection.\",\n",
    "            \"connectorType\":{\n",
    "               \"class\":\"ConnectorType\",\n",
    "               \"type\":{\n",
    "                  \"class\":\"ElementType\",\n",
    "                  \"elementTypeId\":\"954421eb-33a6-462d-a8ca-b5709a1bd0d4\",\n",
    "                  \"elementTypeName\":\"ConnectorType\",\n",
    "                  \"elementTypeVersion\":1,\n",
    "                  \"elementTypeDescription\":\"A set of properties describing a type of connector.\",\n",
    "                  \"elementOrigin\":\"LOCAL_COHORT\"\n",
    "               },\n",
    "               \"guid\":\"4afac741-3dcc-4c60-a4ca-a6dede994e3f\",\n",
    "               \"qualifiedName\":\"Console Audit Log Store Connector\",\n",
    "               \"displayName\":\"Console Audit Log Store Connector\",\n",
    "               \"description\":\"Connector supports logging of audit log messages to stdout.\",\n",
    "               \"connectorProviderClassName\":\"org.odpi.openmetadata.adapters.repositoryservices.auditlogstore.console.ConsoleAuditLogStoreProvider\"\n",
    "            },\n",
    "            \"endpoint\":{\n",
    "               \"class\":\"Endpoint\",\n",
    "               \"type\":{\n",
    "                  \"class\":\"ElementType\",\n",
    "                  \"elementTypeId\":\"dbc20663-d705-4ff0-8424-80c262c6b8e7\",\n",
    "                  \"elementTypeName\":\"Endpoint\",\n",
    "                  \"elementTypeVersion\":1,\n",
    "                  \"elementTypeDescription\":\"Description of the network address and related information needed to call a software service.\",\n",
    "                  \"elementOrigin\":\"CONFIGURATION\"\n",
    "               },\n",
    "               \"guid\":\"836efeae-ab34-4425-89f0-6adf2faa1f2e\",\n",
    "               \"qualifiedName\":\"DefaultAuditLog.Endpoint.Server1.auditlog\",\n",
    "               \"displayName\":\"DefaultAuditLog.Endpoint.Server1.auditlog\",\n",
    "               \"description\":\"OMRS default audit log endpoint.\",\n",
    "               \"address\":\"Server1.auditlog\"\n",
    "            }\n",
    "         }\n",
    "      ]\n",
    "}\n",
    "\n"
   ]
  },
  {
   "cell_type": "code",
   "execution_count": 3,
   "metadata": {},
   "outputs": [],
   "source": [
    "import requests\n",
    "\n",
    "def postAndPrintResult(url, json=None, headers=None):\n",
    "    print(\"   ...... (POST\", url, \")\")\n",
    "    response = requests.post(url, json=json, headers=headers,verify=False)\n",
    "    print(\"   ...... Response: \", response.json())\n",
    "    \n",
    "def getAndPrintResult(url, json=None, headers=None):\n",
    "    print(\"   ...... (GET\", url, \")\")\n",
    "    response = requests.get(url,headers=headers,verify=False)\n",
    "    print(\"   ...... Response: \", response.json())"
   ]
  },
  {
   "cell_type": "code",
   "execution_count": 4,
   "metadata": {},
   "outputs": [
    {
     "name": "stdout",
     "output_type": "stream",
     "text": [
      "   ...... (POST https://localhost:8443/open-metadata/ui-admin-services/users/UIServer/servers/cocoui/configuration )\n"
     ]
    },
    {
     "name": "stderr",
     "output_type": "stream",
     "text": [
      "/Users/jonesn/anaconda3/lib/python3.7/site-packages/urllib3/connectionpool.py:847: InsecureRequestWarning: Unverified HTTPS request is being made. Adding certificate verification is strongly advised. See: https://urllib3.readthedocs.io/en/latest/advanced-usage.html#ssl-warnings\n",
      "  InsecureRequestWarning)\n"
     ]
    },
    {
     "name": "stdout",
     "output_type": "stream",
     "text": [
      "   ...... Response:  {'relatedHTTPCode': 200}\n"
     ]
    }
   ],
   "source": [
    "configUrl=uiPlatformURL + \"/open-metadata/ui-admin-services/users/\" + uiUser + \"/servers/\" + uiServer + \"/configuration\"\n",
    "\n",
    "postAndPrintResult(configUrl,uiConfigurationBody)"
   ]
  },
  {
   "cell_type": "code",
   "execution_count": 5,
   "metadata": {},
   "outputs": [
    {
     "name": "stdout",
     "output_type": "stream",
     "text": [
      "   ...... (POST https://localhost:8443/open-metadata/ui-admin-services/users/UIServer/servers/cocoui/instance )\n",
      "   ...... Response:  {'class': 'SuccessMessageResponse', 'relatedHTTPCode': 200, 'successMessage': 'Fri Dec 20 10:33:56 GMT 2019 cocoui is running the following services: [Subject Area OMVS, Asset Search OMVS, Type Explorer OMVS, Open Lineage OMVS]'}\n"
     ]
    },
    {
     "name": "stderr",
     "output_type": "stream",
     "text": [
      "/Users/jonesn/anaconda3/lib/python3.7/site-packages/urllib3/connectionpool.py:847: InsecureRequestWarning: Unverified HTTPS request is being made. Adding certificate verification is strongly advised. See: https://urllib3.readthedocs.io/en/latest/advanced-usage.html#ssl-warnings\n",
      "  InsecureRequestWarning)\n"
     ]
    }
   ],
   "source": [
    "startUrl = uiPlatformURL + \"/open-metadata/ui-admin-services/users/\" + uiUser + \"/servers/\" + uiServer + \"/instance\"\n",
    "\n",
    "postAndPrintResult(startUrl)"
   ]
  },
  {
   "cell_type": "markdown",
   "metadata": {},
   "source": [
    "### Getting the configuration"
   ]
  },
  {
   "cell_type": "code",
   "execution_count": 6,
   "metadata": {},
   "outputs": [
    {
     "name": "stdout",
     "output_type": "stream",
     "text": [
      "   ...... (GET https://localhost:8443/open-metadata/ui-admin-services/users/UIServer/servers/cocoui/configuration )\n",
      "   ...... Response:  {'class': 'UIServerConfigResponse', 'relatedHTTPCode': 200, 'uiserverConfig': {'class': 'org.odpi.openmetadata.userinterface.adminservices.configuration.properties.UIServerConfig', 'localServerId': '90083805-8ecf-45a6-9d7e-e0895592c090', 'localServerName': 'cocoui', 'localServerUserId': 'UIServer', 'localServerPassword': 'admin', 'localServerType': 'User Interface for the Open Metadata and Governance Server', 'localServerURL': 'http://localhost:8443', 'maxPageSize': 1000, 'metadataServerName': 'cocoMDS4', 'metadataServerURL': 'http://localhost:8081', 'auditLogConnections': [{'class': 'Connection', 'type': {'class': 'ElementType', 'elementTypeId': '114e9f8f-5ff3-4c32-bd37-a7eb42712253', 'elementTypeName': 'Connection', 'elementTypeVersion': 1, 'elementTypeDescription': 'A set of properties to identify and configure a connector instance.', 'elementOrigin': 'CONFIGURATION'}, 'guid': '5390bf3e-6b38-4eda-b34a-de55ac4252a7', 'qualifiedName': 'DefaultAuditLog.Connection.Server1', 'displayName': 'DefaultAuditLog.Connection.Server1', 'description': 'OMRS default audit log connection.', 'connectorType': {'class': 'ConnectorType', 'type': {'class': 'ElementType', 'elementTypeId': '954421eb-33a6-462d-a8ca-b5709a1bd0d4', 'elementTypeName': 'ConnectorType', 'elementTypeVersion': 1, 'elementTypeDescription': 'A set of properties describing a type of connector.', 'elementOrigin': 'LOCAL_COHORT'}, 'guid': '4afac741-3dcc-4c60-a4ca-a6dede994e3f', 'qualifiedName': 'Console Audit Log Store Connector', 'displayName': 'Console Audit Log Store Connector', 'description': 'Connector supports logging of audit log messages to stdout.', 'connectorProviderClassName': 'org.odpi.openmetadata.adapters.repositoryservices.auditlogstore.console.ConsoleAuditLogStoreProvider'}, 'endpoint': {'class': 'Endpoint', 'type': {'class': 'ElementType', 'elementTypeId': 'dbc20663-d705-4ff0-8424-80c262c6b8e7', 'elementTypeName': 'Endpoint', 'elementTypeVersion': 1, 'elementTypeDescription': 'Description of the network address and related information needed to call a software service.', 'elementOrigin': 'CONFIGURATION'}, 'guid': '836efeae-ab34-4425-89f0-6adf2faa1f2e', 'qualifiedName': 'DefaultAuditLog.Endpoint.Server1.auditlog', 'displayName': 'DefaultAuditLog.Endpoint.Server1.auditlog', 'description': 'OMRS default audit log endpoint.', 'address': 'Server1.auditlog'}}], 'viewServicesConfig': [{'class': 'org.odpi.openmetadata.userinterface.adminservices.configuration.properties.ViewServiceConfig', 'viewServiceId': 1030, 'viewServiceName': 'Subject Area OMVS', 'viewServiceAdminClass': 'org.odpi.openmetadata.viewservices.subjectarea.admin.SubjectAreaViewAdmin', 'viewServiceDescription': 'Subject area authoring.', 'viewServiceWiki': 'https://odpi.github.io/egeria/open-metadata-implementation/access-services/subject-area/'}, {'class': 'org.odpi.openmetadata.userinterface.adminservices.configuration.properties.ViewServiceConfig', 'viewServiceId': 1010, 'viewServiceName': 'Asset Search OMVS', 'viewServiceAdminClass': 'org.odpi.openmetadata.viewservices.assetsearch.admin.AssetSearchViewAdmin', 'viewServiceDescription': 'Search and understand your assets.', 'viewServiceWiki': 'https://odpi.github.io/egeria/open-metadata-implementation/access-services/asset-catalog/'}, {'class': 'org.odpi.openmetadata.userinterface.adminservices.configuration.properties.ViewServiceConfig', 'viewServiceId': 1040, 'viewServiceName': 'Type Explorer OMVS', 'viewServiceAdminClass': 'org.odpi.openmetadata.viewservices.typeexplorer.admin.TypeExplorerViewAdmin', 'viewServiceDescription': 'Explore the open metadata types.', 'viewServiceWiki': 'https://odpi.github.io/egeria/open-metadata-implementation/access-services/subject-area/'}, {'class': 'org.odpi.openmetadata.userinterface.adminservices.configuration.properties.ViewServiceConfig', 'viewServiceId': 1020, 'viewServiceName': 'Open Lineage OMVS', 'viewServiceAdminClass': 'org.odpi.openmetadata.viewservices.openlineage.admin.OpenLineageViewAdmin', 'viewServiceDescription': 'Explore open lineage.', 'viewServiceWiki': 'https://odpi.github.io/egeria/open-metadata-implementation/access-services/asset-owner/', 'viewServiceOptions': {'openLineageServerName': 'lin1', 'openLineageServerURL': 'http://localhost:8081'}}]}}\n"
     ]
    },
    {
     "name": "stderr",
     "output_type": "stream",
     "text": [
      "/Users/jonesn/anaconda3/lib/python3.7/site-packages/urllib3/connectionpool.py:847: InsecureRequestWarning: Unverified HTTPS request is being made. Adding certificate verification is strongly advised. See: https://urllib3.readthedocs.io/en/latest/advanced-usage.html#ssl-warnings\n",
      "  InsecureRequestWarning)\n"
     ]
    }
   ],
   "source": [
    "configUrl=uiPlatformURL + \"/open-metadata/ui-admin-services/users/\" + uiUser + \"/servers/\" + uiServer + \"/configuration\"\n",
    "\n",
    "getAndPrintResult(configUrl)"
   ]
  },
  {
   "cell_type": "code",
   "execution_count": null,
   "metadata": {},
   "outputs": [],
   "source": []
  }
 ],
 "metadata": {
  "kernelspec": {
   "display_name": "Python 3",
   "language": "python",
   "name": "python3"
  },
  "language_info": {
   "codemirror_mode": {
    "name": "ipython",
    "version": 3
   },
   "file_extension": ".py",
   "mimetype": "text/x-python",
   "name": "python",
   "nbconvert_exporter": "python",
   "pygments_lexer": "ipython3",
   "version": "3.7.3"
  }
 },
 "nbformat": 4,
 "nbformat_minor": 4
}
