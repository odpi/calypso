{
 "cells": [
  {
   "cell_type": "markdown",
   "metadata": {},
   "source": [
    "![Egeria Logo](https://raw.githubusercontent.com/odpi/egeria/master/assets/img/ODPi_Egeria_Logo_color.png)\n",
    "### Egeria Hands-On Lab\n",
    "# Welcome to the Open Discovery Lab\n",
    "\n",
    "**NOTE - This lab is under construction and is only partly completed**"
   ]
  },
  {
   "cell_type": "markdown",
   "metadata": {},
   "source": [
    "## Introduction\n",
    "\n",
    "Egeria is an open source project that provides open standards and implementation libraries to connect tools,\n",
    "catalogs and platforms together so they can share information about data and technology (called metadata).\n",
    "\n",
    "In this hands-on lab you will get a chance to run an Egeria metadata server, configure discovery services in a discovery engine and run the discovery engine in an Engine Host OMAG server.\n",
    "\n",
    "## What is open discovery?\n",
    "\n",
    "[Metadata discovery](https://egeria.odpi.org/open-metadata-publication/website/metadata-discovery/) is the\n",
    "ability to automatically analyze and create metadata about assets.  Egeria provides an [Open Discovery Framework (ODF)](https://egeria.odpi.org/open-metadata-implementation/frameworks/open-discovery-framework/) that defines open interfaces for components that implement specific types of metadata discovery.   These components can then be called from tools offered by different vendors through the open APIs.\n",
    "We call this ability to invoke metadata discovery components from many different vendor tools, **open discovery**.\n",
    "\n",
    "The Open Discovery Framework (ODF) provides standard interfaces for **discovery services**.  This is the ODF\n",
    "name for the metadata discovery components.  The ODF interfaces control how a discovery service is started and stopped, how it can access the existing metadata about an asset, and store any additional information about the asset that it discovers. \n",
    "\n",
    "Discovery services are specialist **governance services**. They are grouped together into a useful collection of capability called a **governance engine**. The same discovery service may be used in multiple governance engines.\n",
    "\n",
    "Egeria provides a governance server called the **engine host server** that can host one or more governance engines.\n",
    "The engine host server has APIs to call the discovery services in order to drive the analysis a specific asset, and then to view the results.  The discovery services can also scan through all assets, running specific analysis on any it finds.\n",
    "\n",
    "Governance engines tend to be paired and deployed close to the data platforms they are analyzing because the discovery services\n",
    "tend to make many calls to access the content of the asset.  It is not uncommon for an organization to deploy multiple governance engines if their data is distributed.\n",
    "\n",
    "A discovery service connects to a metadata server to retrieve and store metadata about the asset.\n",
    "It uses the Discovery Engine OMAS APIs and events of the metadata server.\n",
    "A single metadata server can support many governance engines.\n",
    "The Governance Engine OMAS  supports the\n",
    "maintenance of the discovery services' and governance engines' definitions.\n",
    "\n",
    "![Figure 1](../images/distributed-engine-services-config.png)\n",
    "> **Figure 1:** governance engine deployments\n",
    "\n",
    "A particular discovery engine may be assigned to run in multiple servers. This is useful if the type of\n",
    "data it is able to analyze is distributed across different locations.\n",
    "\n",
    "The exercises that follow take you through the process of defining discovery engines and services, verifying that\n",
    "they are available in the engine host server and then running discovery requests against various assets.\n"
   ]
  },
  {
   "cell_type": "markdown",
   "metadata": {},
   "source": [
    "## The scenario\n",
    "\n",
    "Peter Profile is Coco Pharmaceuticals' Information Analyst.  He is experienced in managing and analyzing data.\n",
    "In this lab, Peter is setting up automated metadata discovery services for use when new data sets are\n",
    "sent to Coco Pharmaceuticals' data lake.  These data sets come from both internal systems and external partners\n",
    "such as hospitals that are participating in clinical trials.\n",
    "\n",
    "![Peter Profile](https://raw.githubusercontent.com/odpi/data-governance/master/docs/coco-pharmaceuticals/personas/peter-profile.png)\n",
    "\n",
    "Peter's collegue, **Gary Geeke**, the IT Infrastructure leader at Coco Pharmaceuticals,\n",
    "has already configured an engine host server called `governDL01` for Peter to use\n",
    "(see the **[Server Configuration](../egeria-server-config.ipynb)** lab).\n",
    "\n",
    "![Figure 2](../images/coco-pharmaceuticals-systems-omag-server-platforms-engine-host.png)\n",
    "> **Figure 2:** Coco Pharmaceuticals' OMAG Server Platforms\n",
    "\n",
    "The `governDL01` server is running on the Data Lake OMAG Server Platform, along with `cocoMDS1`,\n",
    "which is the metadata server that `governDL01` will use to retrieve and store metadata.\n",
    "\n",
    "The first step is to ensure all of the platforms and servers are running."
   ]
  },
  {
   "cell_type": "code",
   "execution_count": null,
   "metadata": {},
   "outputs": [],
   "source": [
    "\n",
    "# Start up the metadata servers\n",
    "%run ../common/environment-check.ipynb\n",
    "\n",
    "print(\"Start up the Engine Host Server\")\n",
    "activatePlatform(dataLakePlatformName, dataLakePlatformURL, [governDL01Name])\n",
    "print(\"Done. \")\n",
    "\n"
   ]
  },
  {
   "cell_type": "markdown",
   "metadata": {},
   "source": [
    "----\n",
    "You should see that both the metadata server `cocoMDS1` and the engine host server `governDL01` are started.\n",
    "If any of the platforms are not running, follow [this link to set up and run the platform](https://egeria.odpi.org/open-metadata-resources/open-metadata-labs/).  If any server is reporting that it is not configured then\n",
    "run the steps in the [Server Configuration](../egeria-server-config.ipynb) lab to configure\n",
    "the servers.  Then re-run the previous step to ensure all of the servers are started.\n",
    "\n",
    "----\n",
    "The `governDL01` server has been configured to run the Asset Analysis Open Metadata Engine Service (OMES).  Asset Analysis OMES is able to host Open Discovery Framework (ODF) discovery engines.  It has been configured to host two discovery engines.  The command below lists the discovery engines and their status."
   ]
  },
  {
   "cell_type": "code",
   "execution_count": null,
   "metadata": {},
   "outputs": [],
   "source": [
    "\n",
    "printGovernanceEngineStatuses(governDL01Name, governDL01PlatformName, governDL01PlatformURL, petersUserId)\n"
   ]
  },
  {
   "cell_type": "markdown",
   "metadata": {},
   "source": [
    "The status code `ASSIGNED` means that the governance engine was listed in Engine Host's configuration\n",
    "document - ie the governance engine was assigned to this server - but Engine Host has not been\n",
    "able to retrieve the configuration for the governance engine from the metadata server (`cocoMDS1`).\n",
    "\n",
    "When the basic governance engine properties have been retrieved from the metadata server then the status code\n",
    "becomes `CONFIGURING` and more decriptive information is returned with the status.\n",
    "\n",
    "When governance services are registered with the governance engine, the status moves to `RUNNING` and it is possible to see the list of supported request types for the governance engine.\n",
    "\n",
    "The next step in the lab is to add configuration for the discovery engine to `cocoMDS1` until the\n",
    "`AssetDiscovery` discovery engine is running."
   ]
  },
  {
   "cell_type": "markdown",
   "metadata": {},
   "source": [
    "## Exercise 1 - Configuring the Governance Engine with Open Discovery Services"
   ]
  },
  {
   "cell_type": "markdown",
   "metadata": {},
   "source": [
    "Figure 3 shows the structure of the configuration that needs to be stored in the metadata server for\n",
    "a governance engine.\n",
    "\n",
    "The discovery engine has a set of descriptive properties.  These are linked to a list of discovery request types.\n",
    "The discovery request types are memorable names for the types of analysis that the users of the discovery\n",
    "engines will want to run.  It also includes a default set of analysis parameters that can be overridden when\n",
    "a specific discovery request is made.\n",
    "\n",
    "Each discovery request type is further linked either to a discovery service or a **discovery pipeline**.\n",
    "(A discovery pipeline is a discovery service that coordinates the execution of other discovery services.)\n",
    "\n",
    "When a discovery request is made it specifies a discovery request type. The discovery engine runs the\n",
    "discovery service or discovery pipeline linked to the requested discovery type.\n",
    "\n",
    "![Figure 3](../images/discovery-engine-configuration.png)\n",
    "> **Figure 3:** Structure of discovery engine configuration\n",
    "\n",
    "The discovery engine is configured using calls to the Discovery Engine OMAS running in the metadata server `cocoMDS1`.  The first configuration call is to store the discovery engine properties."
   ]
  },
  {
   "cell_type": "code",
   "execution_count": null,
   "metadata": {},
   "outputs": [],
   "source": [
    "assetDiscoveryEngineName = \"AssetDiscovery\"\n",
    "assetDiscoveryEngineDisplayName = \"Asset Discovery Engine\"\n",
    "assetDiscoveryEngineDescription = \"Extracts metadata about an asset on request.\"\n",
    "\n",
    "assetDiscoveryEngineGUID = createGovernanceEngine(cocoMDS1Name,\n",
    "                                                  cocoMDS1PlatformName,\n",
    "                                                  cocoMDS1PlatformURL,\n",
    "                                                  petersUserId,\n",
    "                                                  \"OpenDiscoveryEngine\",\n",
    "                                                  assetDiscoveryEngineName,\n",
    "                                                  assetDiscoveryEngineDisplayName,\n",
    "                                                  assetDiscoveryEngineDescription)\n",
    "\n",
    "print (\" \")\n",
    "print (\"The guid for the \" + assetDiscoveryEngineName + \" discovery engine is: \" + assetDiscoveryEngineGUID)\n",
    "print (\" \")\n"
   ]
  },
  {
   "cell_type": "markdown",
   "metadata": {},
   "source": [
    "----\n",
    "The properties for the discovery engine are now on `cocoMDS1`.  This configuration will eventually propagate to\n",
    "the server `governDL01` through the Discovery Engine OMAS events.  However to propagate the\n",
    "configuration immediately, there is a `refresh configuration` REST API call that can be made to the Asset Analysis\n",
    "OMES to request that it calls the metadata server to retrieve its configuration."
   ]
  },
  {
   "cell_type": "code",
   "execution_count": null,
   "metadata": {},
   "outputs": [],
   "source": [
    "\n",
    "refreshGovernanceEngineConfig(governDL01Name, governDL01PlatformName, governDL01PlatformURL, petersUserId, assetDiscoveryEngineName)\n"
   ]
  },
  {
   "cell_type": "markdown",
   "metadata": {},
   "source": [
    "----\n",
    "\n",
    "When the status of the discovery engines is requested, the AssetDiscovery discovery engine is now showing `CONFIGURING`.  This means the discovery engine is defined, but it does not have any discovery request types\n",
    "defined and hence can not run any discovery services.  It is effectively \"empty\".\n"
   ]
  },
  {
   "cell_type": "code",
   "execution_count": null,
   "metadata": {},
   "outputs": [],
   "source": [
    "\n",
    "printGovernanceEngineStatuses(governDL01Name, governDL01PlatformName, governDL01PlatformURL, petersUserId)\n"
   ]
  },
  {
   "cell_type": "markdown",
   "metadata": {},
   "source": [
    "----\n",
    "To complete the configuration of the discovery engine it needs at least one discovery service registered.\n",
    "\n",
    "The next set of calls creates the definition for a discovery service and then registers it with the discovery\n",
    "engine. The registration request is the point where the discovery\n",
    "request types are linked to the discovery service as shown in **figure 3** above.\n",
    "\n",
    "The definition of the discovery service is independent of the registration with the discovery engine because\n",
    "discovery services can be reused in multiple discovery pipelines and engines.\n"
   ]
  },
  {
   "cell_type": "code",
   "execution_count": null,
   "metadata": {},
   "outputs": [],
   "source": [
    "discoveryServiceName = \"csv-asset-discovery-service\"\n",
    "discoveryServiceDisplayName = \"CSV Asset Discovery Service\"\n",
    "discoveryServiceDescription = \"Discovers columns for CSV Files.\"\n",
    "discoveryServiceProviderClassName = \"org.odpi.openmetadata.adapters.connectors.discoveryservices.CSVDiscoveryServiceProvider\"\n",
    "discoveryServiceRequestType = \"small-csv\"\n",
    "\n",
    "discoveryServiceGUID = createGovernanceService(cocoMDS1Name,\n",
    "                                               cocoMDS1PlatformName,\n",
    "                                               cocoMDS1PlatformURL,\n",
    "                                               petersUserId,\n",
    "                                               \"OpenDiscoveryService\",\n",
    "                                               discoveryServiceName,\n",
    "                                               discoveryServiceDisplayName,\n",
    "                                               discoveryServiceDescription,\n",
    "                                               discoveryServiceProviderClassName,\n",
    "                                               {})\n",
    "\n",
    "if discoveryServiceGUID:\n",
    "    registerGovernanceServiceWithEngine(cocoMDS1Name,\n",
    "                                        cocoMDS1PlatformName,\n",
    "                                        cocoMDS1PlatformURL,\n",
    "                                        petersUserId,\n",
    "                                        assetDiscoveryEngineGUID,\n",
    "                                        discoveryServiceGUID,\n",
    "                                        discoveryServiceRequestType)\n",
    "    print (\" \")\n",
    "    print (\"Service registered as: \" + discoveryServiceGUID)\n",
    "    print (\" \")\n",
    "    \n",
    "print (\"Done. \")"
   ]
  },
  {
   "cell_type": "code",
   "execution_count": null,
   "metadata": {},
   "outputs": [],
   "source": [
    "refreshGovernanceEngineConfig(governDL01Name, governDL01PlatformName, governDL01PlatformURL, petersUserId, assetDiscoveryEngineName)\n",
    "print (\"Done. \")"
   ]
  },
  {
   "cell_type": "markdown",
   "metadata": {},
   "source": [
    "----\n",
    "Now the discovery engine has sufficient configuration to offer a useful service to its callers."
   ]
  },
  {
   "cell_type": "code",
   "execution_count": null,
   "metadata": {},
   "outputs": [],
   "source": [
    "\n",
    "printGovernanceEngineStatuses(governDL01Name, governDL01PlatformName, governDL01PlatformURL, petersUserId)\n"
   ]
  },
  {
   "cell_type": "markdown",
   "metadata": {},
   "source": [
    "----\n",
    "Asset Analysis OMES is ready to run automated discovery requests on the **AssetDiscovery** discovery engine.  The **AssetQuality** discovery engine will be configured in a later release of Egeria when the quaity management function is enabled.\n",
    "\n",
    "----\n",
    "## Exercise 2 - Analysing Assets\n",
    "\n",
    "The next exercise is to run a metadata discovery service.  It is work in progress and will be added soon.\n",
    "The commands below do not currently work because the discovery service is incomplete."
   ]
  },
  {
   "cell_type": "code",
   "execution_count": null,
   "metadata": {},
   "outputs": [],
   "source": [
    "\n",
    "# reportGUID = runDiscoveryService(governDL01Name, governDL01PlatformName, governDL01PlatformURL, petersUserId, \"AssetDiscovery\", \"small-csv\", asset1guid)\n"
   ]
  },
  {
   "cell_type": "markdown",
   "metadata": {},
   "source": [
    "This is how to query the result of a discovery request."
   ]
  },
  {
   "cell_type": "code",
   "execution_count": null,
   "metadata": {},
   "outputs": [],
   "source": [
    "\n",
    "# Return the report header\n",
    "#getDiscoveryReport(governDL01Name, governDL01PlatformName, governDL01PlatformURL, petersUserId, \"AssetDeduplicator\", reportGUID)\n",
    "\n",
    "\n",
    "\n",
    "# Return the annotations\n",
    "#getDiscoveryReportAnnotations(governDL01Name, governDL01PlatformName, governDL01PlatformURL, petersUserId, \"AssetDeduplicator\", reportGUID)\n",
    "\n"
   ]
  },
  {
   "cell_type": "markdown",
   "metadata": {},
   "source": [
    "----\n",
    "## Exercise 3 - Exploring Asset Contents\n",
    "\n",
    "The next exercise is to run metadata discovery on a new asset to discovery its schema (structure) and the\n",
    "characteristics of its content.\n",
    "\n",
    "\n",
    " __Details coming soon ...__"
   ]
  },
  {
   "cell_type": "markdown",
   "metadata": {},
   "source": [
    "----\n",
    "## Exercise 3 - Assessing the quality of assets\n",
    "\n",
    "The final exercise is to use metadata discovery to report on errors in the data from an asset and provide an assessment of its quality.\n",
    "\n",
    "\n",
    "__Details coming soon ...__"
   ]
  },
  {
   "cell_type": "code",
   "execution_count": null,
   "metadata": {},
   "outputs": [],
   "source": []
  }
 ],
 "metadata": {
  "kernelspec": {
   "display_name": "Python 3",
   "language": "python",
   "name": "python3"
  },
  "language_info": {
   "codemirror_mode": {
    "name": "ipython",
    "version": 3
   },
   "file_extension": ".py",
   "mimetype": "text/x-python",
   "name": "python",
   "nbconvert_exporter": "python",
   "pygments_lexer": "ipython3",
   "version": "3.7.3"
  }
 },
 "nbformat": 4,
 "nbformat_minor": 4
}
