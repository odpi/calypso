{
 "cells": [
  {
   "cell_type": "markdown",
   "metadata": {},
   "source": [
    "![Egeria Logo](https://raw.githubusercontent.com/odpi/egeria/master/assets/img/ODPi_Egeria_Logo_color.png)\n",
    "\n",
    "### Egeria Hands-On Lab\n",
    "# Welcome to the Automated Curation Lab\n",
    "\n",
    "**NOTE - this lab is still under construction and should not be used**\n",
    "\n",
    "## Introduction\n",
    "\n",
    "Egeria is an open source project that provides open standards and implementation libraries to connect tools, catalogs and platforms together so they can share information about data and technology (called metadata).\n",
    "\n",
    "In the [Building a Data Catalog](building-a-data-catalog.ipynb) lab, Peter Profile and Erin Overivew\n",
    "manually catalogued the weekly measurement files for the Drop Foot clinical trial.\n",
    "\n",
    "In this hands-on lab you will get a chance to work with Egeria's governance servers to\n",
    "automate this onboarding process.\n",
    "\n",
    "## The scenario\n",
    "\n",
    "[Coco Pharmaceuticals](https://opengovernance.odpi.org/coco-pharmaceuticals/)\n",
    "is conducting a clinical trial with two hospitals: Oak Dene Hospital and Old Market Hospital.\n",
    "Each week the two hospitals send Coco Pharmaceuticals a set of measurements from the patients\n",
    "involved in the trial.  These measurements are located in a CSV file that the hospital sends through\n",
    "secure file transfer to a folder in Coco Pharmaceutical's landing area.\n",
    "\n",
    "These files need to be copied into the data lake and catalogued so that they are only visible to the\n",
    "staff involved in the clinical trial.  It is also important that the lineage of these files is\n",
    "maintained so the source of the data can be traced.  This process is shown in Figure 1.\n",
    "\n",
    "![Scenario](../images/automated-curation-scenario.png)\n",
    "> **Figure 1:** Clinical trial weekly measurements onboarding process\n",
    "\n",
    "Peter Profile and Erin Overview are responsible for this onboarding process.\n",
    "![Peter and Erin](../images/peter-and-erin.png)\n",
    "\n",
    "They have defined a list of requirements for the process:\n",
    "\n",
    "* Files must be in the landing area for a minimum amount of time.\n",
    "* As a new file is received, it needs to be catalogued, including:\n",
    "   * Description\n",
    "   * Connection details to enable the data scientists to access the contents\n",
    "   * Column details\n",
    "   * Governance zones defining the files' visibility\n",
    "   * Owner \n",
    "   * Origin\n",
    "* A file is not accessible by any of the data lake users until the cataloguing process is complete.\n",
    "* They must record lineage of each measurements file so they know which hospital it came from.\n",
    "\n",
    "They have been [manually cataloguing the measurements files](building-a-data-catalog.ipynb) for\n",
    "the first few weeks to prove the approach but now it is time to automate the process since:\n",
    "* This clinical trial is planned to run for two years.\n",
    "* There is a expected to be a ramp up of other clinical trials running simultaneously and the\n",
    "  file onboarding workload would soon become overwhelming if they continued with the manual approach.\n",
    "\n",
    "They plan to use an\n",
    "[Integration Daemon](https://egeria.odpi.org/open-metadata-implementation/admin-services/docs/concepts/integration-daemon.html)\n",
    "called **exchangeDL01** to capture the technical metadata of the files.\n",
    "Then the \n",
    "[Engine Host](https://egeria.odpi.org/open-metadata-implementation/admin-services/docs/concepts/engine-host.html)\n",
    "server called **governDL01** will manage the move of the file into the data lake,\n",
    "the augmentation of the metadata properties of the files and the creation of the lineage.\n",
    "\n",
    "This lab sets up the automated onbourding process using 6 phases as shown in Figure 2:\n",
    "\n",
    "![Phases](../images/automated-curation-scenario-6.png)\n",
    "> **Figure 2:** All six phases\n",
    "\n",
    "1. Bring files in from \"outside\" using the move/copy file governance action service\n",
    "2. Create a template used to catalog files in the landing areas\n",
    "3. Trigger a governance action process when a file appears in a landing folder\n",
    "4. Move the file into the data lake folder using a governance action process\n",
    "5. Create a template used to catalog files in the data lake folder\n",
    "6. Enrich the metadata using governance action services\n",
    "\n",
    "\n",
    "## Setting up\n",
    "\n",
    "Coco Pharmaceuticals make widespread use of Egeria for tracking and managing their data and related assets.\n",
    "Figure 3 below shows their servers and the Open Metadata and Governance (OMAG) Server Platforms that are hosting them.\n",
    "\n",
    "![Figure 3](../images/coco-pharmaceuticals-systems-omag-server-platforms.png)\n",
    "> **Figure 3:** Coco Pharmaceuticals' OMAG Server Platforms\n",
    "\n",
    "The code below checks that the platforms are running.  It checks that the servers are configured and whether they are running on the platform.  If a server is configured, but not running, it will start it.\n",
    "\n",
    "Look for the second \"Done.\" message that is displayed just after the governance servers have started.  It may take up to a minute to start up all of the servers.  If `cocoMDS2` seems to be very slow starting, check that Apache Kafka is running.  The metadata servers will wait for Kafka during start up if they are connected to a cohort.  When they are waiting in this manner, they periodically output a message on the console."
   ]
  },
  {
   "cell_type": "code",
   "execution_count": null,
   "metadata": {},
   "outputs": [],
   "source": [
    "# Start up the metadata servers and the view server\n",
    "%run ../common/environment-check.ipynb\n",
    "\n",
    "print(\"Start up the Governance Servers\")\n",
    "activatePlatform(dataLakePlatformName, dataLakePlatformURL, [governDL01Name, exchangeDL01Name])\n",
    "\n",
    "print(\"Done. \")"
   ]
  },
  {
   "cell_type": "markdown",
   "metadata": {},
   "source": [
    "----\n",
    "You should see that both the metadata servers `cocoMDS1` and `cocoMDS2` along with the integration daemon `exchangeDL01` and the engine host server `governDL01` have started.  These are the servers that will be used in this lab and they are connected together\n",
    "as shown in figure 4.  The `cocoMDS1` metadata server is where the new files are catalogued, whereas the definitions used\n",
    "to drive the governance processes come from `cocoMDS2`.  \n",
    "\n",
    "![Figure 4](../images/governance-servers-for-automated-onboarding.png)\n",
    "> **Figure 4:** Governance servers for automated curation\n",
    "\n",
    "If any of the platforms are not running, follow [this link to set up and run the platform](https://egeria.odpi.org/open-metadata-resources/open-metadata-labs/).  If any server is reporting that it is not configured then\n",
    "run the steps in the [Server Configuration](../egeria-server-config.ipynb) lab to configure\n",
    "the servers.  Then re-run the previous step to ensure all of the servers are started."
   ]
  },
  {
   "cell_type": "markdown",
   "metadata": {},
   "source": [
    "----\n",
    "**Stop here**\n",
    "\n",
    "Plan of the lab\n",
    "\n",
    "* Review the status of the integration daemon and engine host - show that they are both in need to work\n",
    "* Create the folders for the integration daemon connectors and restart them - validate that they are working\n",
    "* Set up the FTP provisioning in the engine host\n",
    "* Add the first file into Oak Dene's landing area\n",
    "* Validate that the file is created in open metadata by the integration connector\n",
    "* Set up the provisioning ga service and test it by creating a governance action to drive it.\n",
    "* Validate that the file is transferred and the new asset is catalogued and the folder is updated\n",
    "* View the lineage\n",
    "* Set up the provisioning service in a simple governance action process and test it\n",
    "* Set up the watch dog service and check it drives the governance action process\n",
    "* Set up the origin and template - then configure the landing area integration connector to use a template - show the template affecting the set up of the landing area asset\n",
    "* Extend the governance action process to use the lineage to set up the origin. Show the origin on the new file asset.\n",
    "* Explain the use of triage if the origin can not be set.\n",
    "* Set up a template the owner and reconfigure the data lake folder\n",
    "* Extend the governance action to create a verification point and set the zone - with a triage alternate.\n",
    "----"
   ]
  },
  {
   "cell_type": "markdown",
   "metadata": {},
   "source": [
    "## Review the status of the integration daemon\n",
    "\n",
    "At this point, even though both `exchangeDL01` and `governDL01` are running, there is still work to set up the full data onboarding pipeline.  Lets start with the integration daemon that catalogs the files as they appear in a folder.\n",
    "\n",
    "The command below queries the status of the integration daemon called `exchangeDL01`."
   ]
  },
  {
   "cell_type": "code",
   "execution_count": null,
   "metadata": {},
   "outputs": [],
   "source": [
    "\n",
    "getIntegrationDaemonStatus(exchangeDL01Name, exchangeDL01PlatformName, exchangeDL01PlatformURL, petersUserId)\n"
   ]
  },
  {
   "cell_type": "markdown",
   "metadata": {},
   "source": [
    "----\n",
    "Notice that the Files Integrator Open Metadata Integration Service (OMIS) is running four integation connectors and they are all failing because the directories (folders) that they are supposed to be monitoring do not exist.  As the data onboarding pipeline is set up in this lab, the directories will get created and we will be able to restart the connectors to get them working.\n",
    "\n",
    "Below are the names of the directories that the four integration connectors are monitoring.  There are two integration connectors monitoring the files in the data lake directory.  One is cataloguing the file and the other is maintaining the last update time for the [DataFolder](https://egeria.odpi.org/open-metadata-publication/website/modelling-technology/) asset that represents the collection of measurements received for the clinical trial.\n",
    "\n",
    "----"
   ]
  },
  {
   "cell_type": "code",
   "execution_count": null,
   "metadata": {},
   "outputs": [],
   "source": [
    "\n",
    "OakDeneLandingDirectory   = fileSystemRoot + '/landing-area/hospitals/oak-dene/clinical-trials/drop-foot'\n",
    "OldMarketLandingDirectory = fileSystemRoot + '/landing-area/hospitals/old-market/clinical-trials/drop-foot'\n",
    "dataLakeDirectory         = fileSystemRoot + '/data-lake/research/clinical-trials/drop-foot/weekly-measurements'\n"
   ]
  },
  {
   "cell_type": "markdown",
   "metadata": {},
   "source": [
    "----\n",
    "\n",
    "At this time there are no assets catalogued for either the landing area or the weekly measurements directory.\n",
    "\n",
    "----"
   ]
  },
  {
   "cell_type": "code",
   "execution_count": null,
   "metadata": {},
   "outputs": [],
   "source": [
    "\n",
    "assetOwnerPrintAssets(cocoMDS1Name, cocoMDS1PlatformName, cocoMDS1PlatformURL, petersUserId, \".*landing.*\")\n",
    "\n",
    "\n",
    "assetOwnerPrintAssets(cocoMDS1Name, cocoMDS1PlatformName, cocoMDS1PlatformURL, petersUserId, \".*drop-foot/weekly-measurements.*\")\n"
   ]
  },
  {
   "cell_type": "markdown",
   "metadata": {},
   "source": [
    "----\n",
    "## Setting up the file transfer into the landing area\n",
    "\n",
    "The directories (folders) that the integration connectors are configured to monitor could be created using a file system command.\n",
    "In this lab, however, the creation of a landing area folder will occur when the first file is received from the corresponding hospital.\n",
    "This is simply to avoid needing to provide this notebook with access to the file system.\n",
    "\n",
    "We are going to use a [provisioning governance action service](https://egeria.odpi.org/open-metadata-implementation/frameworks/governance-action-framework/docs/provisioning-governance-service.html) called `Move/Copy File Governance Action Service`\n",
    "([link to catalog description](https://egeria.odpi.org/open-metadata-publication/website/connector-catalog/move-copy-file-provisioning-governance-action-service.html))\n",
    "to simulate the file transfer from a hospital to its folder in the landing zone.  This service\n",
    "runs in a governance engine that is supported by the [Governance Action Open Metadata Engine Service (OMES)](https://egeria.odpi.org/open-metadata-implementation/engine-services/governance-action/).\n",
    "\n",
    "It is possible to validate and understand the function of the governance action service\n",
    "through an API call to the Governance Action OMES running an engine host server such as `governDL01`.\n",
    "This API call is designed to support tools and others services configuring governance action services.\n",
    "\n",
    "Governance action services are implemented as a connector, which means they are initialized with a\n",
    "[connection](https://egeria.odpi.org/open-metadata-implementation/frameworks/open-connector-framework/docs/concepts/connection.html) object.\n",
    "This includes configuration properties that can be used to control its behavior.\n",
    "`Move/Copy File Governance Action Service` is highly configurable. \n",
    "\n",
    "----"
   ]
  },
  {
   "cell_type": "code",
   "execution_count": null,
   "metadata": {},
   "outputs": [],
   "source": [
    "\n",
    "moveCopyFileProviderClassName = \"org.odpi.openmetadata.adapters.connectors.governanceactions.provisioning.MoveCopyFileGovernanceActionProvider\"\n",
    "\n",
    "print(\"Move/Copy File Governance Action Service:\")\n",
    "validateGovernanceActionEngineConnector(governDL01Name, governDL01PlatformName, governDL01PlatformURL, petersUserId, moveCopyFileProviderClassName)\n"
   ]
  },
  {
   "cell_type": "markdown",
   "metadata": {},
   "source": [
    "----\n",
    "\n",
    "To simulate the secure file transfer from the hospital to the\n",
    "landing area the `Move/Copy File Governance Action Service` will be configured so it expects that the name of the\n",
    "source file to copy will be supplied when it is called (rather than using the catalog entry for the\n",
    "source file) and it does not create lineage.\n",
    "\n",
    "----"
   ]
  },
  {
   "cell_type": "code",
   "execution_count": null,
   "metadata": {},
   "outputs": [],
   "source": [
    "\n",
    "ftpGovernanceServiceName = \"ftp-governance-action-service\"\n",
    "ftpGovernanceServiceDisplayName = \"FTP Governance Action Service\"\n",
    "ftpGovernanceServiceDescription = \"Simulates FTP from an external party.\"\n",
    "ftpGovernanceServiceProviderClassName = moveCopyFileProviderClassName\n",
    "ftpGovernanceServiceConfigurationProperties = {\n",
    "        \"provisionUncataloguedFiles\" : \"\",\n",
    "        \"noLineage\" : \"\"\n",
    "    }\n",
    "ftpGovernanceServiceRequestType = \"copy-file\"\n"
   ]
  },
  {
   "cell_type": "markdown",
   "metadata": {},
   "source": [
    "----\n",
    "\n",
    "This governance action service\n",
    "runs in a governance engine supported by the Governance Action Open Metadata Engine Services (OMES).\n",
    "Figure 5 shows the three governance engines configured in the `governDL01` engine host server during the\n",
    "[Configuring Egeria Servers Lab](../egeria-server-config.ipynb).\n",
    "\n",
    "![Figure 5](../images/engine-host.png)\n",
    "> **Figure 5:** Governance Engines for governDL01\n",
    "\n",
    "The command below queries the status of each governance engine running in `governDL01`.\n",
    "The governance action services that will support the onboarding of files for clinical trials will run in the `AssetGovernance`\n",
    "governance engine.  The other two governance engines are the subject of the [Improving Data Quality](../administration-labs/open-discovery-config.ipynb) lab.\n",
    "\n",
    "----"
   ]
  },
  {
   "cell_type": "code",
   "execution_count": null,
   "metadata": {},
   "outputs": [],
   "source": [
    "\n",
    "printGovernanceEngineStatuses(governDL01Name, governDL01PlatformName, governDL01PlatformURL, petersUserId)\n"
   ]
  },
  {
   "cell_type": "markdown",
   "metadata": {},
   "source": [
    "----\n",
    "The status code `ASSIGNED` means that the governance engine was listed in Engine Host's configuration\n",
    "document - ie the governance engine was assigned to this server - but Engine Host has not been\n",
    "able to retrieve the configuration for the governance engine from the governance metadata server (`cocoMDS2`).\n",
    "\n",
    "The next step in the lab is to add configuration for the governance engine to `cocoMDS2` until the\n",
    "`AssetGovernance` governance engine is running.  The first step is to add a GovernanceEngine definition\n",
    "to the metadata server for `AssetGovernance`.  \n",
    "\n",
    "----"
   ]
  },
  {
   "cell_type": "code",
   "execution_count": null,
   "metadata": {},
   "outputs": [],
   "source": [
    "assetGovernanceEngineName = \"AssetGovernance\"\n",
    "assetGovernanceEngineDisplayName = \"Asset Governance Action Engine\"\n",
    "assetGovernanceEngineDescription = \"Monitors, validates and enriches metadata relating to assets.\"\n",
    "\n",
    "assetGovernanceEngineGUID = createGovernanceEngine(cocoMDS2Name,\n",
    "                                                   cocoMDS2PlatformName,\n",
    "                                                   cocoMDS2PlatformURL,\n",
    "                                                   erinsUserId,\n",
    "                                                   \"GovernanceActionEngine\",\n",
    "                                                   assetGovernanceEngineName,\n",
    "                                                   assetGovernanceEngineDisplayName,\n",
    "                                                   assetGovernanceEngineDescription)\n",
    "\n",
    "if (assetGovernanceEngineGUID):\n",
    "    print (\" \")\n",
    "    print (\"The guid for the \" + assetGovernanceEngineName + \" governance engine is: \" + assetGovernanceEngineGUID)\n",
    "    print (\" \")\n",
    "\n",
    "print (\"Done. \")    "
   ]
  },
  {
   "cell_type": "markdown",
   "metadata": {},
   "source": [
    "----\n",
    "\n",
    "Now the governance engine is defined, its definition is sent to `governDL01` in an event\n",
    "and the engine's status moves to `CONFIGURING`.\n",
    "Notice more descriptive information is returned with the status.\n",
    "\n",
    "----"
   ]
  },
  {
   "cell_type": "code",
   "execution_count": null,
   "metadata": {},
   "outputs": [],
   "source": [
    "\n",
    "waitForConfiguringGovernanceEngine(governDL01Name, governDL01PlatformName, governDL01PlatformURL, petersUserId, assetGovernanceEngineName)\n",
    "\n",
    "printGovernanceEngineStatuses(governDL01Name, governDL01PlatformName, governDL01PlatformURL, petersUserId)\n"
   ]
  },
  {
   "cell_type": "markdown",
   "metadata": {},
   "source": [
    "----\n",
    "\n",
    "Now we add the description of the `Move/Copy File Governance Action Service` to `cocoMDS2`.  There are two parts to\n",
    "registering a governance action service.  The first is to create a GovernanceService definition that identifies\n",
    "the implementation of the governance action service and the second part registers this\n",
    "GovernanceService definition with the GovernanceEngine definition.\n",
    "This registration maps one or more of the governance engine's request types, along with the default request parameters to\n",
    "the GovernanceService definition.  This mapping is used to translate a request to the governance engine into an\n",
    "invocation of a governance action service.\n",
    "\n",
    "Figure 6 shows the structure of the resulting definitions for a governance engine.  A governance action service may be\n",
    "registered with multiple governance engines, using the same or different request types.\n",
    "\n",
    "![Figure 6](../images/governance-action-request-type.png)\n",
    "> **Figure 6:** Structure of the governance services within a governance engine\n",
    "\n",
    "This next code issues the calls to create a definition of the GovernanceService and add it to the AssetGovernance\n",
    "GovernanceEngine definition.\n",
    "\n",
    "----"
   ]
  },
  {
   "cell_type": "code",
   "execution_count": null,
   "metadata": {},
   "outputs": [],
   "source": [
    "governanceServiceGUID = createGovernanceService(cocoMDS2Name,\n",
    "                                                cocoMDS2PlatformName,\n",
    "                                                cocoMDS2PlatformURL,\n",
    "                                                erinsUserId,\n",
    "                                                \"GovernanceActionService\",\n",
    "                                                ftpGovernanceServiceName,\n",
    "                                                ftpGovernanceServiceDisplayName,\n",
    "                                                ftpGovernanceServiceDescription,\n",
    "                                                ftpGovernanceServiceProviderClassName,\n",
    "                                                ftpGovernanceServiceConfigurationProperties)\n",
    "\n",
    "if (governanceServiceGUID):\n",
    "    print (\" \")\n",
    "    print (\"The guid for the \" + governanceServiceName + \" governance service is: \" + governanceServiceGUID)\n",
    "    registerGovernanceServiceWithEngine(cocoMDS1Name,\n",
    "                                        cocoMDS1PlatformName,\n",
    "                                        cocoMDS1PlatformURL,\n",
    "                                        petersUserId,\n",
    "                                        assetGovernanceEngineGUID,\n",
    "                                        governanceServiceGUID,\n",
    "                                        ftpGovernanceServiceRequestType)\n",
    "    print (\"Service registered as: \" + ftpGovernanceServiceRequestType)\n",
    "    print (\" \")\n",
    "    "
   ]
  },
  {
   "cell_type": "markdown",
   "metadata": {},
   "source": [
    "----\n",
    "\n",
    "When at least one governance service is registered with the governance engine, the status of the governance engine in\n",
    "`governDL01` moves to `RUNNING` and it is possible to see the list of supported request types for the governance engine. \n",
    "\n",
    "----"
   ]
  },
  {
   "cell_type": "code",
   "execution_count": null,
   "metadata": {},
   "outputs": [],
   "source": [
    "\n",
    "waitForRunningGovernanceEngine(governDL01Name, governDL01PlatformName, governDL01PlatformURL, petersUserId, assetGovernanceEngineName)\n",
    "\n",
    "printGovernanceEngineStatuses(governDL01Name, governDL01PlatformName, governDL01PlatformURL, petersUserId)\n"
   ]
  },
  {
   "cell_type": "markdown",
   "metadata": {},
   "source": [
    "----\n",
    "\n",
    "With the governance action service defined in a running governance engine, all that remains is to call it.\n",
    "\n",
    "Any defined governance action service can be called directly through the Governance Engine OMAS,\n",
    "which in this lab is running in the `cocoMDS2` metadata server.  This call results in an event being sent to all\n",
    "engine hosts running the named governance engine.  The first one that claims it gets to run it.  In this lab\n",
    "there is only one engine host and so the request will run on `governDL01`.\n",
    "\n",
    "----"
   ]
  },
  {
   "cell_type": "code",
   "execution_count": null,
   "metadata": {},
   "outputs": [],
   "source": [
    "OakDeneSourceFolder = 'sample-data/oak-dene-drop-foot-weekly-measurements'\n",
    "\n",
    "sourceFileName = OakDeneSourceFolder + \"/\" + \"week1.csv\"\n",
    "\n",
    "requestParameters = {\n",
    "        \"source-file\" : sourceFileName,\n",
    "        \"destination-folder\" : OakDeneLandingDirectory\n",
    "    }\n",
    "qualifiedName = \"FTP Oak Dene Week 1\"\n",
    "\n",
    "governanceActionGUID = None\n",
    "governanceActionGUID = initiateGovernanceAction(cocoMDS2Name,\n",
    "                                                cocoMDS2PlatformName,\n",
    "                                                cocoMDS2PlatformURL,\n",
    "                                                erinsUserId,\n",
    "                                                assetGovernanceEngineName,\n",
    "                                                qualifiedName,\n",
    "                                                ftpGovernanceServiceRequestType,\n",
    "                                                requestParameters)\n"
   ]
  },
  {
   "cell_type": "markdown",
   "metadata": {},
   "source": [
    "----\n",
    "\n",
    "This governance action does not take long to run so you should soon see its status as completed.\n",
    "\n",
    "----"
   ]
  },
  {
   "cell_type": "code",
   "execution_count": null,
   "metadata": {},
   "outputs": [],
   "source": [
    "\n",
    "waitForRunningGovernanceAction(cocoMDS2Name, cocoMDS2PlatformName, cocoMDS2PlatformURL, erinsUserId, governanceActionGUID)\n",
    "\n",
    "printGovernanceAction(cocoMDS2Name, cocoMDS2PlatformName, cocoMDS2PlatformURL, erinsUserId, governanceActionGUID)\n",
    "    "
   ]
  },
  {
   "cell_type": "markdown",
   "metadata": {},
   "source": [
    "----\n",
    "We now have the ability to provision new files into either landing area as shown in Figure 7.\n",
    "\n",
    "![Phase 1](../images/automated-curation-scenario-1.png)\n",
    "> **Figure 7:** Phase 1: Arrival of new files\n",
    "\n",
    "Restarting the oak dene integration connector in the `exchangeDL01` integration daemon will cause it to\n",
    "test again to see if the directory it is monitoring exists.\n",
    "\n",
    "----"
   ]
  },
  {
   "cell_type": "code",
   "execution_count": null,
   "metadata": {},
   "outputs": [],
   "source": [
    "OakDeneLandingAreaConnectorName = 'OakDeneLandingAreaFilesMonitor'\n",
    "\n",
    "restartIntegrationConnector(exchangeDL01Name, exchangeDL01PlatformName, exchangeDL01PlatformURL, petersUserId, \"files-integrator\", OakDeneLandingAreaConnectorName)"
   ]
  },
  {
   "cell_type": "markdown",
   "metadata": {},
   "source": [
    "----\n",
    "\n",
    "If we check the status of the integration connectors again, you can see this connector is now running.\n",
    "\n",
    "----"
   ]
  },
  {
   "cell_type": "code",
   "execution_count": null,
   "metadata": {},
   "outputs": [],
   "source": [
    "\n",
    "getIntegrationDaemonStatus(exchangeDL01Name, exchangeDL01PlatformName, exchangeDL01PlatformURL, petersUserId)\n"
   ]
  },
  {
   "cell_type": "markdown",
   "metadata": {},
   "source": [
    "----\n",
    "\n",
    "The connector will begin cataloguing any files placed in the directory.  We should be able to see the `week1.csv` file in the catalog.\n",
    "\n",
    "----"
   ]
  },
  {
   "cell_type": "code",
   "execution_count": null,
   "metadata": {},
   "outputs": [],
   "source": [
    "\n",
    "assetOwnerPrintAssets(cocoMDS1Name, cocoMDS1PlatformName, cocoMDS1PlatformURL, petersUserId, \".*landing.*\")\n"
   ]
  },
  {
   "cell_type": "markdown",
   "metadata": {},
   "source": [
    "----\n",
    "The action of the integration connector has been to catalog the new file and the folders above it.\n",
    "The catalog definition is minimal, consisting of just what can be gleaned from the file system.\n",
    "\n",
    "It is possible to provide the integration connector with a template metadata element to copy when it\n",
    "is cataloguing files.   This template can include classifications such as zones, origin, confidentiality and attachments such as\n",
    "connections, schemas and lineage mappings. (There is more information on templates in the\n",
    "[Egeria website](https://egeria.odpi.org/open-metadata-publication/website/cataloging-assets/templated-cataloging.html)).\n",
    "\n",
    "Templates are used to set up values for the assets created by the connector that are always the same.\n",
    "In this example, all of the files that this connector encounters are from the Oak Dene Hospital so we can use a template to set up the\n",
    "file's origin and the connection information needed to access the file.\n",
    "\n",
    "Including this type of detail in the asset means that no-one has to remember that this landing area folder was used by\n",
    "the Oak Dene Hospital and it simplifies the downstream cataloguing.\n",
    "Other values that are useful to set up in a template are any licenses for the file, schema information, zones, known lineage to this\n",
    "directory, plus other classifications.  Information about the types of information that can be attached to an\n",
    "asset are available on the [Egeria website](https://egeria.odpi.org/open-metadata-publication/website/cataloging-assets/asset-catalog-contents.html).\n",
    "\n"
   ]
  },
  {
   "cell_type": "markdown",
   "metadata": {},
   "source": [
    "## Working with templates\n",
    "\n",
    "If you know the class name of an integration connector's provider, it is possible to check if the connector is of the right type for an integration service.  This function also returns full details of the connector type, which often includes descriptive information as well as the configuration properties that it supports.\n",
    "\n",
    "The connectors configured in the Files Integrator OMIS are shown in figure 8:\n",
    "\n",
    "![Figure 8](../images/integration-daemon.png)\n",
    "> **Figure 8:** exchangeDL01 with its connectors\n",
    "\n",
    "The class names of these integration connectors' providers can be seen in the connection object embedded in the error message displayed with the connectors' status.\n",
    "\n",
    "The commands below request that the Files Integrator OMIS service validate and return the connector type for each of these connectors."
   ]
  },
  {
   "cell_type": "code",
   "execution_count": null,
   "metadata": {},
   "outputs": [],
   "source": [
    "dataFilesMonitorProviderClassName = \"org.odpi.openmetadata.adapters.connectors.integration.basicfiles.DataFilesMonitorIntegrationProvider\"\n",
    "dataFolderMonitorProviderClassName = \"org.odpi.openmetadata.adapters.connectors.integration.basicfiles.DataFolderMonitorIntegrationProvider\"\n",
    "\n",
    "print(\"Data Files Monitor Integration Connector Type:\")\n",
    "validateIntegrationConnector(exchangeDL01Name, exchangeDL01PlatformName, exchangeDL01PlatformURL, \"files-integrator\", petersUserId, dataFilesMonitorProviderClassName)\n",
    "\n",
    "print(\"\")\n",
    "print(\"Data Folder Monitor Integration Connector Type:\")\n",
    "validateIntegrationConnector(exchangeDL01Name, exchangeDL01PlatformName, exchangeDL01PlatformURL, \"files-integrator\", petersUserId, dataFolderMonitorProviderClassName)"
   ]
  },
  {
   "cell_type": "markdown",
   "metadata": {},
   "source": [
    "----\n",
    "Both connectors supports the `templateQualifiedName` and the `allowCatalogDelete` configuration properties.  If you are curious\n",
    "about their meaning, review the definitions in the connector catalog:\n",
    "\n",
    "* [Data Files Monitor Integration Connector](https://egeria.odpi.org/open-metadata-publication/website/connector-catalog/data-files-monitor-integration-connector.html)\n",
    "* [Data Folder Monitor Integration Connector](https://egeria.odpi.org/open-metadata-publication/website/connector-catalog/data-folder-monitor-integration-connector.html)\n",
    "\n",
    "We are going to set the `templateQualifiedName` with the qualified name of an asset that has the origin set up for the appropriate originating hospitals.\n",
    "\n",
    "----\n",
    "The commands below create the template assets for each of the hospitals."
   ]
  },
  {
   "cell_type": "code",
   "execution_count": null,
   "metadata": {},
   "outputs": [],
   "source": [
    "t1AssetName     = \"Oak Dene Template\"\n",
    "t1QualifiedName = \"template:clinical-trials:drop-foot:weekly-measurments:oak-dene\"\n",
    "t1DisplayName   = \"Drop Foot Clinical Trial Measurements Template Asset: Oak Dene\"\n",
    "t1Description   = \"Template asset for Oak Dene Hospital.\"\n",
    "t1Contact       = \"Robbie Records\"\n",
    "t1Dept          = \"Drop Foot Research Centre\"\n",
    "t1Org           = \"Oak Dene Hospital\"\n",
    "\n",
    "t2AssetName     = \"Old Market Template\"\n",
    "t2QualifiedName = \"template:clinical-trials:drop-foot:weekly-measurments:old-market\"\n",
    "t2DisplayName   = \"Drop Foot Clinical Trial Measurements Template Asset: Old Market\"\n",
    "t2Description   = \"Template asset for Old Market Hospital.\"\n",
    "t2Contact       = \"TBD\"\n",
    "t2Dept          = \"DFRG1F6\"\n",
    "t2Org           = \"Old Market Hospital\"\n",
    "\n",
    "\n",
    "asset1guids = assetOwnerCreateCSVAsset(cocoMDS1Name, cocoMDS1PlatformName, cocoMDS1PlatformURL, petersUserId, t1DisplayName, t1Description, t1QualifiedName)\n",
    "asset1guid = getLastGUID(asset1guids)\n",
    "addOrigin(cocoMDS1Name, cocoMDS1PlatformName, cocoMDS1PlatformURL, petersUserId, t1AssetName, asset1guid, t1Contact, t1Dept, t1Org)\n",
    "\n",
    "asset2guids = assetOwnerCreateCSVAsset(cocoMDS1Name, cocoMDS1PlatformName, cocoMDS1PlatformURL, petersUserId, t2DisplayName, t2Description, t2QualifiedName)\n",
    "asset2guid = getLastGUID(asset2guids)\n",
    "addOrigin(cocoMDS1Name, cocoMDS1PlatformName, cocoMDS1PlatformURL, petersUserId, t2AssetName, asset2guid, t2Contact, t2Dept, t2Org)\n",
    "\n",
    "print (\"\\n\\nNewTemplate Assets:\")\n",
    "assetOwnerPrintAssets(cocoMDS1Name, cocoMDS1PlatformName, cocoMDS1PlatformURL, petersUserId, \".*Template.*\")\n"
   ]
  },
  {
   "cell_type": "markdown",
   "metadata": {},
   "source": [
    "----\n",
    "\n",
    "The next commands reconfigure the integration connectors that are monitoring for new files in the landing area to use the templates ...\n",
    "\n",
    "---"
   ]
  },
  {
   "cell_type": "code",
   "execution_count": null,
   "metadata": {},
   "outputs": [],
   "source": [
    "\n",
    "t1ConnectorName = \"OakDeneLandingAreaFilesMonitor\"\n",
    "t1ConfigurationProperties = {\n",
    "    \"templateQualifiedName\" : t1QualifiedName\n",
    "}\n",
    "\n",
    "t2ConnectorName = \"OldMarketLandingAreaFilesMonitor\"\n",
    "t2ConfigurationProperties = {\n",
    "    \"templateQualifiedName\" : t2QualifiedName\n",
    "}\n",
    "\n",
    "updateConnectorConfigurationProperties(exchangeDL01Name, exchangeDL01PlatformName, exchangeDL01PlatformURL, \"files-integrator\", petersUserId, t1ConnectorName, t1ConfigurationProperties)\n",
    "updateConnectorConfigurationProperties(exchangeDL01Name, exchangeDL01PlatformName, exchangeDL01PlatformURL, \"files-integrator\", petersUserId, t2ConnectorName, t2ConfigurationProperties)\n",
    "\n",
    "getIntegrationConnectorConfigProperties(exchangeDL01Name, exchangeDL01PlatformName, exchangeDL01PlatformURL, \"files-integrator\", petersUserId, t1ConnectorName)\n",
    "getIntegrationConnectorConfigProperties(exchangeDL01Name, exchangeDL01PlatformName, exchangeDL01PlatformURL, \"files-integrator\", petersUserId, t2ConnectorName)\n"
   ]
  },
  {
   "cell_type": "markdown",
   "metadata": {},
   "source": [
    "----\n",
    "\n",
    "Now lets add the file for week 2 into the landing area.\n",
    "\n",
    "----"
   ]
  },
  {
   "cell_type": "code",
   "execution_count": null,
   "metadata": {},
   "outputs": [],
   "source": [
    "\n",
    "sourceFileName = OakDeneSourceFolder + \"/\" + \"week2.csv\"\n",
    "\n",
    "requestParameters = {\n",
    "        \"source-file\" : sourceFileName,\n",
    "        \"destination-folder\" : OakDeneLandingDirectory\n",
    "    }\n",
    "qualifiedName = \"FTP Oak Dene Week 2\"\n",
    "\n",
    "governanceActionGUID = None\n",
    "governanceActionGUID = initiateGovernanceAction(cocoMDS2Name,\n",
    "                                                cocoMDS2PlatformName,\n",
    "                                                cocoMDS2PlatformURL,\n",
    "                                                erinsUserId,\n",
    "                                                assetGovernanceEngineName,\n",
    "                                                qualifiedName,\n",
    "                                                ftpGovernanceServiceRequestType,\n",
    "                                                requestParameters)\n",
    "\n",
    "\n",
    "waitForRunningGovernanceAction(cocoMDS2Name, cocoMDS2PlatformName, cocoMDS2PlatformURL, erinsUserId, governanceActionGUID)\n",
    "printGovernanceAction(cocoMDS2Name, cocoMDS2PlatformName, cocoMDS2PlatformURL, erinsUserId, governanceActionGUID)\n",
    " "
   ]
  },
  {
   "cell_type": "markdown",
   "metadata": {},
   "source": [
    "----\n",
    "\n",
    "The newly catalogued file will show that the origin is set up.\n",
    "\n",
    "----"
   ]
  },
  {
   "cell_type": "code",
   "execution_count": null,
   "metadata": {},
   "outputs": [],
   "source": [
    "\n",
    "assetOwnerPrintAssets(cocoMDS1Name, cocoMDS1PlatformName, cocoMDS1PlatformURL, petersUserId, \".*landing-area/hospitals/oak-dene/clinical-trials/drop-foot.*\")\n"
   ]
  },
  {
   "cell_type": "markdown",
   "metadata": {},
   "source": [
    "----\n",
    "We are now cataloguing files arriving in the landing folders and their origin is set up - and so phase 2 shown in figure 9 is complete.\n",
    "\n",
    "\n",
    "![Phase 2](../images/automated-curation-scenario-2.png)\n",
    "> **Figure 9:** Phase 2: Creating assets for newly arrived files with a template\n",
    "\n",
    "\n",
    "At this point, the integration daemon is ready to support the onboarding of data from either hospital.\n",
    "The next step is to configure the governance action process that provisions the newly arrived files in the data lake.\n",
    "\n",
    "## Listening for new assets\n",
    "\n",
    "The watchdog governance action services are responsible for listening for events that indicate specific types of activity and then acting on it.\n",
    "They can initiate\n",
    "a [governance action](https://egeria.odpi.org/open-metadata-implementation/access-services/governance-engine/docs/concepts/governance-action.html),\n",
    "a [governance action process](https://egeria.odpi.org/open-metadata-implementation/access-services/governance-engine/docs/concepts/governance-action-process.html) or\n",
    "an [incident report](https://egeria.odpi.org/open-metadata-implementation/access-services/governance-engine/docs/concepts/incident-report.html).\n",
    "\n",
    "For this onboarding process, we are going to set up a watchdog governance action service called `GenericElementWatchdogGovernanceActionService`.\n",
    "It can be configured to listen for specific types of events, on specific types of objects and even focus on changes to a specific instance.\n",
    "Below is the definition of this governance action service.\n",
    "\n",
    "----"
   ]
  },
  {
   "cell_type": "code",
   "execution_count": null,
   "metadata": {},
   "outputs": [],
   "source": [
    "\n",
    "genericElementWatchdogProviderClassName = \"org.odpi.openmetadata.adapters.connectors.governanceactions.watchdog.GenericElementWatchdogGovernanceActionProvider\"\n",
    "\n",
    "print(\"Generic Element Watchdog Governance Action Service:\")\n",
    "validateGovernanceActionEngineConnector(governDL01Name, governDL01PlatformName, governDL01PlatformURL, petersUserId, genericElementWatchdogProviderClassName)\n"
   ]
  },
  {
   "cell_type": "markdown",
   "metadata": {},
   "source": [
    "----\n",
    "\n",
    "The calls below define this governance action service and create a governance action to cause it to run.\n",
    "\n",
    "----"
   ]
  },
  {
   "cell_type": "code",
   "execution_count": null,
   "metadata": {},
   "outputs": [],
   "source": [
    "watchdogGovernanceServiceName = \"new-asset-watchdog-governance-action-service\"\n",
    "watchdogGovernanceServiceDisplayName = \"New Asset Watchdog Governance Action Service\"\n",
    "watchdogGovernanceServiceDescription = \"Initiates a governance action process when a new asset arrives.\"\n",
    "watchdogGovernanceServiceProviderClassName = \"org.odpi.openmetadata.adapters.connectors.governanceactions.watchdog.GenericElementWatchdogGovernanceActionProvider\"\n",
    "watchdogGovernanceServiceConfigurationProperties = {}\n",
    "watchdogGovernanceServiceRequestType = \"process-multiple-events\"\n",
    "watchdogGovernanceServiceProcessToCall = \"governance-action-process:clinical-trials:drop-foot:weekly-measurements:onboarding\"\n",
    "\n",
    "\n",
    "governanceServiceGUID = createGovernanceService(cocoMDS2Name,\n",
    "                                                cocoMDS2PlatformName,\n",
    "                                                cocoMDS2PlatformURL,\n",
    "                                                erinsUserId,\n",
    "                                                \"GovernanceActionService\",\n",
    "                                                watchdogGovernanceServiceName,\n",
    "                                                watchdogGovernanceServiceDisplayName,\n",
    "                                                watchdogGovernanceServiceDescription,\n",
    "                                                watchdogGovernanceServiceProviderClassName,\n",
    "                                                watchdogGovernanceServiceConfigurationProperties)\n",
    "\n",
    "if (governanceServiceGUID):\n",
    "    print (\" \")\n",
    "    print (\"The guid for the \" + governanceServiceName + \" governance service is: \" + governanceServiceGUID)\n",
    "    registerGovernanceServiceWithEngine(cocoMDS1Name,\n",
    "                                        cocoMDS1PlatformName,\n",
    "                                        cocoMDS1PlatformURL,\n",
    "                                        petersUserId,\n",
    "                                        assetGovernanceEngineGUID,\n",
    "                                        governanceServiceGUID,\n",
    "                                        watchdogGovernanceServiceRequestType)\n",
    "    print (\"Service registered as: \" + ftpGovernanceServiceRequestType)\n",
    "    print (\" \")\n",
    "\n",
    "\n",
    "requestParameters = {\n",
    "        \"interestingTypeName\" : \"Asset\",\n",
    "        \"newElementProcessName\" : watchdogGovernanceServiceProcessToCall\n",
    "    }\n",
    "qualifiedName = \"Listen for new assets (Drop Foot Clinical Trial)\"\n",
    "\n",
    "governanceActionGUID = None\n",
    "governanceActionGUID = initiateGovernanceAction(cocoMDS2Name,\n",
    "                                                cocoMDS2PlatformName,\n",
    "                                                cocoMDS2PlatformURL,\n",
    "                                                erinsUserId,\n",
    "                                                assetGovernanceEngineName,\n",
    "                                                qualifiedName,\n",
    "                                                watchdogGovernanceServiceRequestType,\n",
    "                                                requestParameters)\n"
   ]
  },
  {
   "cell_type": "markdown",
   "metadata": {},
   "source": [
    "----\n",
    "\n",
    "With the watchdog in place, any new files added to the metadata repository will trigger a governance action process called `governance-action-process:clinical-trials:drop-foot:weekly-measurements:onboarding`.\n",
    "\n",
    "![Phase 3](../images/automated-curation-scenario-3.png)\n",
    "> **Figure 10:** Phase 3: Triggering provisioning of the file in to the data lake\n",
    "\n",
    "## Creating a governance action process for new assets\n",
    "\n",
    "A governance action process defines a flow of governance actions that are linked together by the guards that they produce when they run.\n",
    "It is represented by a metadata element of type Process.  This gives the process a unique name and\n",
    "the anchor point to connect it into the governance definitions.\n",
    "\n",
    "----"
   ]
  },
  {
   "cell_type": "code",
   "execution_count": null,
   "metadata": {},
   "outputs": [],
   "source": [
    "\n",
    "qualifiedName = watchdogGovernanceServiceProcessToCall\n",
    "displayName   = \"Drop Foot Onboard Weekly Measurement Files\"\n",
    "description   = \"Ensures that new weekly drop foot measurement files from the hospitals are correctly catalogued in the data lake.\"\n",
    "technicalName = \"DFOBWKLY01\"\n",
    "technicalDescription = \"\"\" This process performs the follow function:\n",
    " 1) The physical file is moved to the data lake and renamed \n",
    " 2) A new asset is created for the new file \n",
    " 3) Lineage is created between the orginal file asset and the new file asset\n",
    " 4) The owner and origin are assigned\n",
    " 5) The governance zones are assigned to make the new asset visible to the research team.\"\"\"\n",
    "\n",
    "governanceActionProcessGUID = createGovernanceActionProcess(cocoMDS2Name, cocoMDS2PlatformName, cocoMDS2PlatformURL, erinsUserId, qualifiedName, displayName, description, technicalName, technicalDescription)\n"
   ]
  },
  {
   "cell_type": "markdown",
   "metadata": {},
   "source": []
  },
  {
   "cell_type": "markdown",
   "metadata": {},
   "source": [
    "\n",
    "\n",
    "actionTypeGUID = createGovernanceActionType(cocoMDS2Name, cocoMDS2PlatformName, cocoMDS2PlatformURL, erinsUserId, governanceEngineGUID, qualifiedName, supportedGuards, requestType, requestParameters) \n",
    "\n",
    "setupFirstActionType(cocoMDS2Name, cocoMDS2PlatformName, cocoMDS2PlatformURL, erinsUserId, governanceActionProcessGUID, actionTypeGUID, optionalGuard)\n",
    "\n",
    "setupNextActionType(cocoMDS2Name, cocoMDS2PlatformName, cocoMDS2PlatformURL, erinsUserId, currentActionTypeGUID, nextActionTypeGUID, guard, mandatoryGuard, ignoreMultipleTriggers)\n"
   ]
  },
  {
   "cell_type": "markdown",
   "metadata": {},
   "source": [
    "----\n",
    "\n",
    "Lets provision week 4 to see if the process is triggered and the file is moved to the data dake folder.\n",
    "\n",
    "----"
   ]
  },
  {
   "cell_type": "code",
   "execution_count": null,
   "metadata": {},
   "outputs": [],
   "source": [
    "\n",
    "sourceFileName = OakDeneSourceFolder + \"/\" + \"week3.csv\"\n",
    "\n",
    "requestParameters = {\n",
    "        \"source-file\" : sourceFileName,\n",
    "        \"destination-folder\" : OakDeneLandingDirectory\n",
    "    }\n",
    "qualifiedName = \"FTP Oak Dene Week 3\"\n",
    "\n",
    "governanceActionGUID = None\n",
    "governanceActionGUID = initiateGovernanceAction(cocoMDS2Name,\n",
    "                                                cocoMDS2PlatformName,\n",
    "                                                cocoMDS2PlatformURL,\n",
    "                                                erinsUserId,\n",
    "                                                assetGovernanceEngineName,\n",
    "                                                qualifiedName,\n",
    "                                                ftpGovernanceServiceRequestType,\n",
    "                                                requestParameters)\n",
    "\n",
    "\n",
    "waitForRunningGovernanceAction(cocoMDS2Name, cocoMDS2PlatformName, cocoMDS2PlatformURL, erinsUserId, governanceActionGUID)\n",
    "printGovernanceAction(cocoMDS2Name, cocoMDS2PlatformName, cocoMDS2PlatformURL, erinsUserId, governanceActionGUID)\n"
   ]
  },
  {
   "cell_type": "code",
   "execution_count": null,
   "metadata": {},
   "outputs": [],
   "source": [
    "\n",
    "sourceFileName = OakDeneSourceFolder + \"/\" + \"week4.csv\"\n",
    "\n",
    "requestParameters = {\n",
    "        \"source-file\" : sourceFileName,\n",
    "        \"destination-folder\" : OakDeneLandingDirectory\n",
    "    }\n",
    "qualifiedName = \"FTP Oak Dene Week 4\"\n",
    "\n",
    "governanceActionGUID = None\n",
    "governanceActionGUID = initiateGovernanceAction(cocoMDS2Name,\n",
    "                                                cocoMDS2PlatformName,\n",
    "                                                cocoMDS2PlatformURL,\n",
    "                                                erinsUserId,\n",
    "                                                assetGovernanceEngineName,\n",
    "                                                qualifiedName,\n",
    "                                                ftpGovernanceServiceRequestType,\n",
    "                                                requestParameters)\n",
    "\n",
    "\n",
    "waitForRunningGovernanceAction(cocoMDS2Name, cocoMDS2PlatformName, cocoMDS2PlatformURL, erinsUserId, governanceActionGUID)\n",
    "printGovernanceAction(cocoMDS2Name, cocoMDS2PlatformName, cocoMDS2PlatformURL, erinsUserId, governanceActionGUID)\n"
   ]
  },
  {
   "cell_type": "markdown",
   "metadata": {},
   "source": [
    "The second instance is part of Coco Pharmaceuticals onboarding process and will be driven from the appearance of the\n",
    "Asset created by the integration daemon when a file arrives in the landing area.\n",
    "This instance will also produce lineage and change the resulting filename so that the files are sequenced according to their\n",
    "arrival.  For example:\n",
    " * DropFoot_000001.csv\n",
    " * DropFoot_000002.csv\n",
    "\n",
    "This aids the time-based loading of the files into a database by ensuring any corrections to the readings are applied in the\n",
    "correct order."
   ]
  },
  {
   "cell_type": "code",
   "execution_count": null,
   "metadata": {},
   "outputs": [],
   "source": [
    "\n",
    "dlGovernanceServiceName = \"provision-weekly-measurements-governance-action-service\"\n",
    "dlGovernanceServiceDisplayName = \"FTP Governance Action Service\"\n",
    "dlGovernanceServiceDescription = \"Provisions weekly measurment files from the landing area to the \"\n",
    "dlGovernanceServiceProviderClassName = moveCopyFileProviderClassName\n",
    "dlGovernanceServiceConfigurationProperties = {\n",
    "        \"targetFileNamePattern\" : \"DropFoot_{1, number,000000}.csv\"\n",
    "    }\n",
    "dlGovernanceServiceRequestType = \"move-file\"\n"
   ]
  },
  {
   "cell_type": "markdown",
   "metadata": {},
   "source": [
    "----\n",
    "\n",
    "This next code issues the calls to add another definition of `Move/Copy File Governance Action Service` and add it to the AssetGovernance\n",
    "governance engine.\n",
    "\n",
    "----"
   ]
  },
  {
   "cell_type": "code",
   "execution_count": null,
   "metadata": {},
   "outputs": [],
   "source": [
    "\n",
    "governanceServiceGUID = createGovernanceService(cocoMDS2Name,\n",
    "                                                cocoMDS2PlatformName,\n",
    "                                                cocoMDS2PlatformURL,\n",
    "                                                erinsUserId,\n",
    "                                                \"GovernanceActionService\",\n",
    "                                                dlGovernanceServiceName,\n",
    "                                                dlGovernanceServiceDisplayName,\n",
    "                                                dlGovernanceServiceDescription,\n",
    "                                                dlGovernanceServiceProviderClassName,\n",
    "                                                dlGovernanceServiceConfigurationProperties)\n",
    "\n",
    "if (governanceServiceGUID):\n",
    "    print (\" \")\n",
    "    print (\"The guid for the \" + governanceServiceName + \" governance service is: \" + governanceServiceGUID)\n",
    "    registerGovernanceServiceWithEngine(cocoMDS1Name,\n",
    "                                        cocoMDS1PlatformName,\n",
    "                                        cocoMDS1PlatformURL,\n",
    "                                        petersUserId,\n",
    "                                        assetGovernanceEngineGUID,\n",
    "                                        governanceServiceGUID,\n",
    "                                        dlGovernanceServiceRequestType)\n",
    "    print (\"Service registered as: \" + dlGovernanceServiceRequestType)\n",
    "    print (\" \")   \n",
    "  "
   ]
  },
  {
   "cell_type": "markdown",
   "metadata": {},
   "source": [
    "Next we need a governance action service to listen for the new assets being created in the landing area.\n",
    "    "
   ]
  },
  {
   "cell_type": "markdown",
   "metadata": {},
   "source": [
    "![Phase 4](../images/automated-curation-scenario-4.png)\n",
    "> **Figure 11:** Phase 4: Move the file into the data lake"
   ]
  },
  {
   "cell_type": "code",
   "execution_count": null,
   "metadata": {},
   "outputs": [],
   "source": []
  },
  {
   "cell_type": "markdown",
   "metadata": {},
   "source": [
    "![Phase 5](../images/automated-curation-scenario-5.png)\n",
    "> **Figure 12:** Phase 5: Set up the template for newly arrived files in the data lake"
   ]
  },
  {
   "cell_type": "code",
   "execution_count": null,
   "metadata": {},
   "outputs": [],
   "source": []
  },
  {
   "cell_type": "markdown",
   "metadata": {},
   "source": [
    "![Phase 6](../images/automated-curation-scenario-6.png)\n",
    "> **Figure 12:** Phase 6: Extend the governance action process to enrich the asset"
   ]
  },
  {
   "cell_type": "code",
   "execution_count": null,
   "metadata": {},
   "outputs": [],
   "source": [
    "\n"
   ]
  },
  {
   "cell_type": "code",
   "execution_count": null,
   "metadata": {},
   "outputs": [],
   "source": [
    "ftpRequestType = \"copy-file\"\n",
    "\n",
    "if governanceServiceGUID:\n",
    "    registerGovernanceServiceWithEngine(cocoMDS2Name,\n",
    "                                        cocoMDS2PlatformName,\n",
    "                                        cocoMDS2PlatformURL,\n",
    "                                        erinsUserId,\n",
    "                                        assetGovernanceEngineGUID,\n",
    "                                        governanceServiceGUID,\n",
    "                                        ftpRequestType)\n",
    "    print (\" \")\n",
    "    print (\"Service registered as: \" + ftpRequestType)\n",
    "    print (\" \")\n",
    "    \n",
    "print (\"Done. \")"
   ]
  },
  {
   "cell_type": "code",
   "execution_count": null,
   "metadata": {},
   "outputs": [],
   "source": []
  },
  {
   "cell_type": "markdown",
   "metadata": {},
   "source": [
    "\n"
   ]
  },
  {
   "cell_type": "code",
   "execution_count": null,
   "metadata": {},
   "outputs": [],
   "source": [
    "# Test the status of all of the connectors\n",
    "\n",
    "csvDiscoveryProviderClassName = \"org.odpi.openmetadata.adapters.connectors.discoveryservices.CSVDiscoveryServiceProvider\"\n",
    "\n",
    "print(\"CSV Discovery Service:\")\n",
    "validateAssetAnalysisEngineConnector(governDL01Name, governDL01PlatformName, governDL01PlatformURL, petersUserId, csvDiscoveryProviderClassName)\n",
    "\n",
    "\n"
   ]
  },
  {
   "cell_type": "markdown",
   "metadata": {},
   "source": [
    "----\n"
   ]
  },
  {
   "cell_type": "markdown",
   "metadata": {},
   "source": [
    "---"
   ]
  },
  {
   "cell_type": "code",
   "execution_count": null,
   "metadata": {},
   "outputs": [],
   "source": []
  },
  {
   "cell_type": "markdown",
   "metadata": {},
   "source": [
    "----"
   ]
  },
  {
   "cell_type": "markdown",
   "metadata": {},
   "source": [
    "----"
   ]
  },
  {
   "cell_type": "code",
   "execution_count": null,
   "metadata": {},
   "outputs": [],
   "source": []
  },
  {
   "cell_type": "markdown",
   "metadata": {},
   "source": [
    "----\n"
   ]
  },
  {
   "cell_type": "code",
   "execution_count": null,
   "metadata": {},
   "outputs": [],
   "source": []
  },
  {
   "cell_type": "markdown",
   "metadata": {},
   "source": [
    "----\n"
   ]
  },
  {
   "cell_type": "code",
   "execution_count": null,
   "metadata": {},
   "outputs": [],
   "source": []
  },
  {
   "cell_type": "markdown",
   "metadata": {},
   "source": [
    "----"
   ]
  },
  {
   "cell_type": "code",
   "execution_count": null,
   "metadata": {},
   "outputs": [],
   "source": []
  },
  {
   "cell_type": "markdown",
   "metadata": {},
   "source": [
    "----"
   ]
  }
 ],
 "metadata": {
  "kernelspec": {
   "display_name": "Python 3",
   "language": "python",
   "name": "python3"
  },
  "language_info": {
   "codemirror_mode": {
    "name": "ipython",
    "version": 3
   },
   "file_extension": ".py",
   "mimetype": "text/x-python",
   "name": "python",
   "nbconvert_exporter": "python",
   "pygments_lexer": "ipython3",
   "version": "3.7.3"
  }
 },
 "nbformat": 4,
 "nbformat_minor": 4
}
